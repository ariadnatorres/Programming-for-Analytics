{
  "nbformat": 4,
  "nbformat_minor": 0,
  "metadata": {
    "colab": {
      "provenance": [],
      "authorship_tag": "ABX9TyMpTC4NPToUa9Ejzc090g5f",
      "include_colab_link": true
    },
    "kernelspec": {
      "name": "python3",
      "display_name": "Python 3"
    },
    "language_info": {
      "name": "python"
    }
  },
  "cells": [
    {
      "cell_type": "markdown",
      "metadata": {
        "id": "view-in-github",
        "colab_type": "text"
      },
      "source": [
        "<a href=\"https://colab.research.google.com/github/ariadnatorres/Programming-for-Analytics/blob/main/HW1_question_2CIS3120.ipynb\" target=\"_parent\"><img src=\"https://colab.research.google.com/assets/colab-badge.svg\" alt=\"Open In Colab\"/></a>"
      ]
    },
    {
      "cell_type": "markdown",
      "source": [
        "Write a function called Introduction"
      ],
      "metadata": {
        "id": "tWcm9Ccy97EL"
      }
    },
    {
      "cell_type": "code",
      "source": [
        "def introduction():\n",
        "  #The function should also print your name\n",
        "  print(\"My name is Ariadna\")\n",
        "  print()\n",
        "  #function explains what the program does\n",
        "  print('Enter the correct password to continue using the program (cat)')\n",
        "  print(\"This program takes three integer values, calculates their average, \\nand compares each value to the average\")\n",
        "  print()\n",
        "  print(\"The program will exit if you don't enter the correct password\")\n",
        "\n",
        "\n",
        "\n",
        "\n"
      ],
      "metadata": {
        "id": "ac0g-Ali-B83"
      },
      "execution_count": null,
      "outputs": []
    },
    {
      "cell_type": "markdown",
      "source": [
        "Write a function called average(x,y,z).\n",
        "The function will calculate the average of the 3 integers entered by user"
      ],
      "metadata": {
        "id": "O3QiIpDjPzhN"
      }
    },
    {
      "cell_type": "code",
      "source": [
        "def find_average(x,y,z):\n",
        "  # x y and z are considered parameters (in1 = x, int2 = y, int3 = z)\n",
        "  #find average of these three parameters\n",
        "  average_calculated = (x + y + z)/3\n",
        "  return average_calculated   #whatever is stored in average_calculated will be stored in \"avg\" variable\n",
        "\n"
      ],
      "metadata": {
        "id": "TXyzJ7uQQDo-"
      },
      "execution_count": null,
      "outputs": []
    },
    {
      "cell_type": "markdown",
      "source": [
        "Write a function called compared_average(x,y,z)"
      ],
      "metadata": {
        "id": "pBzpbuJrX2FR"
      }
    },
    {
      "cell_type": "code",
      "source": [
        "def compare_to_avg(x, y, z, avg):\n",
        "    # creating \"count\" to find the amount integers equal to average\n",
        "    count = 0\n",
        "\n",
        "    # List of integers entered by user stored in variable \"numbers\"\n",
        "    numbers = [x, y, z]\n",
        "\n",
        "    # Compare each number to the average\n",
        "    for i in numbers:\n",
        "        if i < avg:\n",
        "            print(f\"{i} is less than the average.\")\n",
        "        elif i > avg:\n",
        "            print(f\"{i} is greater than the average.\")\n",
        "        else:\n",
        "            print(f\"{i} is equal to the average.\")\n",
        "            count += 1\n",
        "\n",
        "    # Print the count of integers equal to the average\n",
        "    #count has to be outside of for loop.\n",
        "    print(f\"{count} value(s) are equal to the average.\")\n",
        "\n",
        "    return"
      ],
      "metadata": {
        "id": "4ma9aCbfX9_C"
      },
      "execution_count": null,
      "outputs": []
    },
    {
      "cell_type": "markdown",
      "source": [
        "Write a function called \"main\". This \"main\" function will call the \"introduction\" function."
      ],
      "metadata": {
        "id": "OC1dqcYh9bxO"
      }
    },
    {
      "cell_type": "code",
      "source": [
        "def main():\n",
        "  introduction()\n",
        "\n",
        "  #variable to count how many sets of data values were entered and processed!\n",
        "  count = 0\n",
        "\n",
        "  #this program asks the user enters the correct password needed.\n",
        "  print()\n",
        "\n",
        "  password = input('Please, enter the password: ')\n",
        "\n",
        "\n",
        "  #sentinel while loop, meaning\n",
        "  while password == 'cat':\n",
        "\n",
        "    #ask the user to enter three diff int values\n",
        "    int1 = int(input('Please enter the first integer: '))\n",
        "    int2 = int(input('Please enter the second integer: '))\n",
        "    int3 = int(input('Please enter the third integer: '))\n",
        "\n",
        "\n",
        "    print()\n",
        "    # show user the numbers they entered:\n",
        "    print(f\"The numbers entered are: {int1} {int2} {int3}\")\n",
        "\n",
        "\n",
        "    #'finding the average\n",
        "    avg = find_average( int1, int2, int3)\n",
        "    print(f'The average is: {avg:.3f}')\n",
        "\n",
        "\n",
        "    #comparing each number to the average\n",
        "    compare_to_avg(int1, int2, int3, avg)\n",
        "\n",
        "    #add every single sets of data for each loop in counter\n",
        "    count +=1\n",
        "\n",
        "    print()\n",
        "    #ask the user to enter password again:\n",
        "    password = input('Please, enter the password: ')\n",
        "\n",
        "  print(f'{count} sets of three data values were entered and processed.')\n",
        "  print('program ended!')\n",
        "\n"
      ],
      "metadata": {
        "id": "_mupBICn9fd4"
      },
      "execution_count": null,
      "outputs": []
    },
    {
      "cell_type": "markdown",
      "source": [
        "You need to call the function after it is created"
      ],
      "metadata": {
        "id": "_W71HnQ5GHL_"
      }
    },
    {
      "cell_type": "code",
      "source": [
        "#it is important that you call the main function in order to activate the block of code where the main function is being defined.\n",
        "main()"
      ],
      "metadata": {
        "id": "O4uLjXb0_j9T",
        "colab": {
          "base_uri": "https://localhost:8080/"
        },
        "outputId": "2802857f-e05f-41a3-cf39-592bda9dbda0"
      },
      "execution_count": null,
      "outputs": [
        {
          "output_type": "stream",
          "name": "stdout",
          "text": [
            "My name is Ariadna\n",
            "\n",
            "Enter the correct password to continue using the program\n",
            "This program takes three integer values, calculates their average, \n",
            "and compares each value to the average\n",
            "\n",
            "The program will exit if you don't enter the correct password\n",
            "\n",
            "Please, enter the password: cat\n",
            "Please enter the first integer: 2\n",
            "Please enter the second integer: 2\n",
            "Please enter the third integer: 2\n",
            "\n",
            "The numbers entered are: 2 2 2\n",
            "The average is: 2.000\n",
            "2 is equal to the average.\n",
            "2 is equal to the average.\n",
            "2 is equal to the average.\n",
            "3 value(s) are equal to the average.\n",
            "\n",
            "Please, enter the password: dog\n",
            "1 sets of three data values were entered and processed.\n",
            "program ended!\n"
          ]
        }
      ]
    }
  ]
}