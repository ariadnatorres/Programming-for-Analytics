{
  "nbformat": 4,
  "nbformat_minor": 0,
  "metadata": {
    "colab": {
      "provenance": []
    },
    "kernelspec": {
      "name": "python3",
      "display_name": "Python 3"
    },
    "language_info": {
      "name": "python"
    }
  },
  "cells": [
    {
      "cell_type": "markdown",
      "source": [
        "Import Libraries"
      ],
      "metadata": {
        "id": "XaBKuV6t2zRp"
      }
    },
    {
      "cell_type": "code",
      "execution_count": 94,
      "metadata": {
        "id": "J1MDICyAvTO-"
      },
      "outputs": [],
      "source": [
        "import requests\n",
        "from bs4 import BeautifulSoup\n"
      ]
    },
    {
      "cell_type": "markdown",
      "source": [
        "Setting up url variables with website links"
      ],
      "metadata": {
        "id": "kVUF6iIb233Y"
      }
    },
    {
      "cell_type": "code",
      "source": [
        "#for project 1 tho, you can make a list and use a for loop\n",
        "womens_volleyball_url = 'https://athletics.baruch.cuny.edu/sports/womens-volleyball/roster?view=2'\n",
        "womens_swim_url = 'https://athletics.baruch.cuny.edu/sports/womens-swimming-and-diving/roster?view=2'\n",
        "mens_swim_url = 'https://athletics.baruch.cuny.edu/sports/mens-swimming-and-diving/roster'\n",
        "mens_volleyball_url = 'https://athletics.baruch.cuny.edu/sports/mens-volleyball/roster'"
      ],
      "metadata": {
        "id": "umbtDfTv2X8g"
      },
      "execution_count": 95,
      "outputs": []
    },
    {
      "cell_type": "markdown",
      "source": [
        "Function that will extract, convert and calculate team's average heights"
      ],
      "metadata": {
        "id": "-VoUQsjpzsoc"
      }
    },
    {
      "cell_type": "code",
      "source": [
        "def web_crawler(url):\n",
        "  page = requests.get(url)\n",
        "  #print(url) #this is printing the url link which we no longer need\n",
        "  #print(page.status_code) #this is printing the status code which we no longer need\n",
        "\n",
        "\n",
        "  #if the request was successful,\n",
        "  if page.status_code == 200:\n",
        "    soup = BeautifulSoup(page.content, 'html.parser') #page.content contains the HTML content in raw form\n",
        "  #create a variable called soup.\n",
        "\n",
        "    #extracting the td tags that have a class called height\n",
        "    heights = soup.find_all('td', class_ = 'height')\n",
        "\n",
        "    #new list created where all inches will be stored\n",
        "    all_heights_inches = []\n",
        "\n",
        "\n",
        "    #here we are extracting the content from those td tags\n",
        "\n",
        "    for height in heights:\n",
        "\n",
        "      #extracting the raw height\n",
        "      value = height.get_text()\n",
        "\n",
        "      #splitting the values\n",
        "      value_list = value.split(\"-\")\n",
        "      #print(value_list) #this will print the entire list, which we no longer need to see\n",
        "\n",
        "      #convert to numeric data type, it was in str type previously\n",
        "      feet = float(value_list[0])\n",
        "      inches = float(value_list[1])\n",
        "\n",
        "      #Here is the formula thats converting the feet to inches\n",
        "      feet_as_inches = feet * 12\n",
        "\n",
        "      #Formula to calculate overall height in inches\n",
        "      height_in_inches = feet_as_inches + inches\n",
        "\n",
        "      #inserting each converted height into a list by appending\n",
        "      all_heights_inches.append(height_in_inches)\n",
        "\n",
        "\n",
        "    #find average, len is to determine the length of the elements\n",
        "    avg_height = sum(all_heights_inches) /len(all_heights_inches)\n",
        "\n",
        "\n",
        "    #printing list of all inches\n",
        "    #print(all_heights_inches) #this we no longer need.\n",
        "\n",
        "    #you need to return instead of printing so that it can be stored in a variable\n",
        "    return avg_height"
      ],
      "metadata": {
        "id": "lZJzkFJaR_0V"
      },
      "execution_count": 96,
      "outputs": []
    },
    {
      "cell_type": "markdown",
      "source": [
        "Variables that have all of our findings being assigned to their respective team"
      ],
      "metadata": {
        "id": "U5eRvd-oGWRm"
      }
    },
    {
      "cell_type": "code",
      "source": [
        "#here we are storing all of the extraction/calculations to their respective variables after we returned\n",
        "\n",
        "womens_swim_avg_height = web_crawler(womens_swim_url)\n",
        "\n",
        "womens_volleyball_avg_height = web_crawler(womens_volleyball_url)\n",
        "\n",
        "mens_swim_avg_height = web_crawler(mens_swim_url)\n",
        "\n",
        "mens_volleyball_avg_height = web_crawler(mens_volleyball_url)\n"
      ],
      "metadata": {
        "id": "n1iupGiRVhGs"
      },
      "execution_count": 97,
      "outputs": []
    },
    {
      "cell_type": "markdown",
      "source": [
        "Show the user the program's findings with short explanations"
      ],
      "metadata": {
        "id": "a9Xp5O8zGfcA"
      }
    },
    {
      "cell_type": "code",
      "source": [
        "#Here we have a couple of sentences that explains to the user average heights answers for each team\n",
        "\n",
        "print(f'The avg height of the womens swim team is {womens_swim_avg_height}')\n",
        "print(f'The avg height of the womens volleyball team is {womens_volleyball_avg_height}')\n",
        "print(f'The avg height of the men swim team is {mens_swim_avg_height}')\n",
        "print(f'The avg height of the mens volleyball team is {mens_volleyball_avg_height}')"
      ],
      "metadata": {
        "colab": {
          "base_uri": "https://localhost:8080/"
        },
        "id": "3tIZacGqqlWG",
        "outputId": "5e6e9052-7516-4b9d-fa7e-dd077d0a936c"
      },
      "execution_count": 98,
      "outputs": [
        {
          "output_type": "stream",
          "name": "stdout",
          "text": [
            "The avg height of the womens swim team is 63.84615384615385\n",
            "The avg height of the womens volleyball team is 67.25\n",
            "The avg height of the men swim team is 70.33333333333333\n",
            "The avg height of the mens volleyball team is 72.47368421052632\n"
          ]
        }
      ]
    },
    {
      "cell_type": "markdown",
      "source": [
        "If statements comparing Female and Male teams"
      ],
      "metadata": {
        "id": "OEf7vJ9SGmD2"
      }
    },
    {
      "cell_type": "code",
      "source": [
        "#comparing womens volleyball to womens swim team\n",
        "if womens_volleyball_avg_height > womens_swim_avg_height:\n",
        "  print('Womens volleyball players are taller than womens swimmers')\n",
        "else:\n",
        "  print('Womens swimmers players are taller than womens volleyball players')"
      ],
      "metadata": {
        "colab": {
          "base_uri": "https://localhost:8080/"
        },
        "id": "FWtYeC-xunc9",
        "outputId": "f32f2cb6-b76b-4294-979c-e7b93a634533"
      },
      "execution_count": 99,
      "outputs": [
        {
          "output_type": "stream",
          "name": "stdout",
          "text": [
            "Womens volleyball players are taller than womens swimmers\n"
          ]
        }
      ]
    },
    {
      "cell_type": "code",
      "source": [
        "#comapring mens volleyabll to mens swim team\n",
        "\n",
        "if mens_volleyball_avg_height > mens_swim_avg_height:\n",
        "  print('Mens volleyball players are taller than womens swimmers')\n",
        "else:\n",
        "  print('Mens swimmers players are taller than womens volleyball players')"
      ],
      "metadata": {
        "colab": {
          "base_uri": "https://localhost:8080/"
        },
        "id": "XlcTxl7xxJeF",
        "outputId": "11841e71-b364-4b36-bd4f-4dabca1375be"
      },
      "execution_count": 100,
      "outputs": [
        {
          "output_type": "stream",
          "name": "stdout",
          "text": [
            "Mens volleyball players are taller than womens swimmers\n"
          ]
        }
      ]
    }
  ]
}