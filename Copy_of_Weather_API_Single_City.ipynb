{
  "nbformat": 4,
  "nbformat_minor": 0,
  "metadata": {
    "colab": {
      "provenance": [],
      "include_colab_link": true
    },
    "kernelspec": {
      "name": "python3",
      "display_name": "Python 3"
    },
    "language_info": {
      "name": "python"
    }
  },
  "cells": [
    {
      "cell_type": "markdown",
      "metadata": {
        "id": "view-in-github",
        "colab_type": "text"
      },
      "source": [
        "<a href=\"https://colab.research.google.com/github/ariadnatorres/Programming-for-Analytics/blob/main/Copy_of_Weather_API_Single_City.ipynb\" target=\"_parent\"><img src=\"https://colab.research.google.com/assets/colab-badge.svg\" alt=\"Open In Colab\"/></a>"
      ]
    },
    {
      "cell_type": "markdown",
      "source": [
        "Use the weather api to find data for a single city"
      ],
      "metadata": {
        "id": "lgyglbX06-u7"
      }
    },
    {
      "cell_type": "markdown",
      "source": [
        "import libraries"
      ],
      "metadata": {
        "id": "yoGJ_VvK7E3X"
      }
    },
    {
      "cell_type": "code",
      "execution_count": 5,
      "metadata": {
        "id": "7cLSS_EX65TU"
      },
      "outputs": [],
      "source": [
        "import requests\n",
        "import json"
      ]
    },
    {
      "cell_type": "markdown",
      "source": [
        "API Key - Please use your own"
      ],
      "metadata": {
        "id": "rPf5O7eC7NI3"
      }
    },
    {
      "cell_type": "code",
      "source": [
        "key = '93524c4f1cd40d5260162475eddf473e'\n",
        "\n",
        "#our city of interest\n",
        "city = 'New+York'\n",
        "\n",
        "#url or endpoint to which we are making our request.\n",
        "url = f'https://api.openweathermap.org/data/2.5/weather?q={city}&appid={key}&units=imperial'"
      ],
      "metadata": {
        "id": "bXKvhR_Q7Jv9"
      },
      "execution_count": 6,
      "outputs": []
    },
    {
      "cell_type": "markdown",
      "source": [
        "Make a request to the API using the url and the parameters"
      ],
      "metadata": {
        "id": "QJIZOu2H81_y"
      }
    },
    {
      "cell_type": "code",
      "source": [
        "r = requests.get(url)"
      ],
      "metadata": {
        "id": "UQurYSi38fSJ"
      },
      "execution_count": 7,
      "outputs": []
    },
    {
      "cell_type": "markdown",
      "source": [
        "Check if request is successful"
      ],
      "metadata": {
        "id": "5sN_E_t08-9K"
      }
    },
    {
      "cell_type": "code",
      "source": [
        "#only if the request is successful, then we will attempt to process the json code\n",
        "if r.status_code == 200:\n",
        "  #the api returns data in the json format. To retrieve this, call the .json() method on the request object\n",
        "\n",
        "  data = r.json()\n",
        "\n",
        "  #By default, the json() is in a format which can be difficult to read\n",
        "  print('Unformatted JSON')\n",
        "  print('\\n\\n')\n",
        "\n",
        "  print(data)\n",
        "\n",
        "  # json.dumps() - takes 3 parameters, the actual json code (data)\n",
        "  #               - a boolean value which sorts the keys (sort_keys)\n",
        "  #               - takes a value which specifies how much to indent the code by\n",
        "\n",
        "  formatted_json = json.dumps(data, sort_keys=True, indent = 10)\n",
        "\n",
        "  print('\\n\\n')\n",
        "  print('formatted JSON')\n",
        "  print('\\n\\n')\n",
        "\n",
        "  print(formatted_json)\n",
        "\n",
        "  temperature = data['main']['temp']\n",
        "  humidity = data['main']['humidity']\n",
        "  description = data['weather'][0]['description']\n",
        "  wind_speed = data['wind']['speed']\n",
        "\n",
        "  print(f'temperature is {temperature}')\n",
        "  print(f'humidity is {humidity}')\n",
        "  print(f'description is {description}')\n",
        "  print(f'wind speed is {wind_speed}')\n",
        "else:\n",
        "  print('API request was unsuccessful!')\n"
      ],
      "metadata": {
        "colab": {
          "base_uri": "https://localhost:8080/"
        },
        "id": "pCHTmtao896U",
        "outputId": "05529fa7-375b-49b1-852d-60fc774846f7"
      },
      "execution_count": 8,
      "outputs": [
        {
          "output_type": "stream",
          "name": "stdout",
          "text": [
            "Unformatted JSON\n",
            "\n",
            "\n",
            "\n",
            "{'coord': {'lon': -74.006, 'lat': 40.7143}, 'weather': [{'id': 804, 'main': 'Clouds', 'description': 'overcast clouds', 'icon': '04n'}], 'base': 'stations', 'main': {'temp': 34.07, 'feels_like': 23.58, 'temp_min': 31.48, 'temp_max': 35.55, 'pressure': 1019, 'humidity': 45}, 'visibility': 10000, 'wind': {'speed': 17, 'deg': 273, 'gust': 24}, 'clouds': {'all': 100}, 'dt': 1701312729, 'sys': {'type': 2, 'id': 2008101, 'country': 'US', 'sunrise': 1701259113, 'sunset': 1701293422}, 'timezone': -18000, 'id': 5128581, 'name': 'New York', 'cod': 200}\n",
            "\n",
            "\n",
            "\n",
            "formatted JSON\n",
            "\n",
            "\n",
            "\n",
            "{\n",
            "          \"base\": \"stations\",\n",
            "          \"clouds\": {\n",
            "                    \"all\": 100\n",
            "          },\n",
            "          \"cod\": 200,\n",
            "          \"coord\": {\n",
            "                    \"lat\": 40.7143,\n",
            "                    \"lon\": -74.006\n",
            "          },\n",
            "          \"dt\": 1701312729,\n",
            "          \"id\": 5128581,\n",
            "          \"main\": {\n",
            "                    \"feels_like\": 23.58,\n",
            "                    \"humidity\": 45,\n",
            "                    \"pressure\": 1019,\n",
            "                    \"temp\": 34.07,\n",
            "                    \"temp_max\": 35.55,\n",
            "                    \"temp_min\": 31.48\n",
            "          },\n",
            "          \"name\": \"New York\",\n",
            "          \"sys\": {\n",
            "                    \"country\": \"US\",\n",
            "                    \"id\": 2008101,\n",
            "                    \"sunrise\": 1701259113,\n",
            "                    \"sunset\": 1701293422,\n",
            "                    \"type\": 2\n",
            "          },\n",
            "          \"timezone\": -18000,\n",
            "          \"visibility\": 10000,\n",
            "          \"weather\": [\n",
            "                    {\n",
            "                              \"description\": \"overcast clouds\",\n",
            "                              \"icon\": \"04n\",\n",
            "                              \"id\": 804,\n",
            "                              \"main\": \"Clouds\"\n",
            "                    }\n",
            "          ],\n",
            "          \"wind\": {\n",
            "                    \"deg\": 273,\n",
            "                    \"gust\": 24,\n",
            "                    \"speed\": 17\n",
            "          }\n",
            "}\n",
            "temperature is 34.07\n",
            "humidity is 45\n",
            "description is overcast clouds\n",
            "wind speed is 17\n"
          ]
        }
      ]
    },
    {
      "cell_type": "code",
      "source": [],
      "metadata": {
        "id": "dqjBjSeqPyFE"
      },
      "execution_count": 8,
      "outputs": []
    },
    {
      "cell_type": "code",
      "source": [],
      "metadata": {
        "id": "RzVDhWRM9C4J"
      },
      "execution_count": 8,
      "outputs": []
    }
  ]
}